{
  "nbformat": 4,
  "nbformat_minor": 0,
  "metadata": {
    "colab": {
      "provenance": [],
      "authorship_tag": "ABX9TyN4QboohFQt5uTNmEeOV90d",
      "include_colab_link": true
    },
    "kernelspec": {
      "name": "python3",
      "display_name": "Python 3"
    },
    "language_info": {
      "name": "python"
    }
  },
  "cells": [
    {
      "cell_type": "markdown",
      "metadata": {
        "id": "view-in-github",
        "colab_type": "text"
      },
      "source": [
        "<a href=\"https://colab.research.google.com/github/sibyllerdx/ALG-DS-DrCalory/blob/main/DrCaloryCode.ipynb\" target=\"_parent\"><img src=\"https://colab.research.google.com/assets/colab-badge.svg\" alt=\"Open In Colab\"/></a>"
      ]
    },
    {
      "cell_type": "code",
      "execution_count": null,
      "metadata": {
        "colab": {
          "base_uri": "https://localhost:8080/"
        },
        "id": "tRMW035YVp94",
        "outputId": "b09571a7-c3ce-4128-81c7-f4678d6e7c78"
      },
      "outputs": [
        {
          "output_type": "stream",
          "name": "stdout",
          "text": [
            "What is your height (cm): 161\n",
            "What is your weight (kg): 53\n",
            "What is your age: 19\n",
            "What is your gender (M/F): F\n",
            "\n",
            "How many times a week do you do cardio?\n",
            "Examples: running, swimming, cycling\n",
            "0:Never\n",
            "1:Once or twice\n",
            "2:Three or four\n",
            "3:Five or more\n",
            "  --->  1\n",
            "\n",
            "How many times a week do you do strength training like weight lifting?\n",
            "0:Never\n",
            "1:Once or twice\n",
            "2:Three or four\n",
            "3:Five or more\n",
            "  --->  2\n",
            "\n",
            "What is your goal?\n",
            "0:Lose weight\n",
            "1:Maintain weight\n",
            "2:Gain muscle mass\n",
            "  --->  1\n",
            "\n",
            "Here is your daily split:\n",
            "\n",
            "Proteins: 203.13 grams\n",
            "Carbs: 203.13 grams\n",
            "Fat: 45.14 grams\n"
          ]
        }
      ],
      "source": [
        "def bmr():\n",
        "    height = float(input(\"What is your height (cm): \"))\n",
        "    weight = float(input(\"What is your weight (kg): \"))\n",
        "    age = int(input(\"What is your age: \"))\n",
        "    gender = input(\"What is your gender (M/F): \")\n",
        "    if gender.upper() == \"M\":  # Added .upper() to handle lowercase input\n",
        "        bmr = 88.362 + (13.397 * weight) + (4.799 * height) - (5.677 * age)\n",
        "    else:\n",
        "        bmr = 447.593 + (9.247 * weight) + (3.098 * height) - (4.33 * age)\n",
        "    return bmr\n",
        "\n",
        "class Node():\n",
        "  def __init__(self, value):\n",
        "    self.value = value\n",
        "    self.adjacencyList = {}\n",
        "\n",
        "  def traversal(self):\n",
        "    if self.adjacencyList == {}:\n",
        "      return self.value\n",
        "    else:\n",
        "      answer = self.askQuestion()\n",
        "      return self.adjacencyList[answer].traversal()\n",
        "\n",
        "  def insertNode(self, value, key):\n",
        "    node = Node(value)\n",
        "    self.adjacencyList[key]=node\n",
        "    return node\n",
        "\n",
        "  def askQuestion(self):\n",
        "    return input('\\n'+self.value+'\\n  --->  ')\n",
        "\n",
        "car = Node('How many times a week do you do cardio?\\nExamples: running, swimming, cycling\\n0:Never\\n1:Once or twice\\n2:Three or four\\n3:Five or more')\n",
        "\n",
        "w0 = car.insertNode('How many times a week do you do strength training like weight lifting?\\n0:Never\\n1:Once or twice\\n2:Three or four\\n3:Five or more', '0')\n",
        "w1 = car.insertNode('How many times a week do you do strength training like weight lifting?\\n0:Never\\n1:Once or twice\\n2:Three or four\\n3:Five or more', '1')\n",
        "w2 = car.insertNode('How many times a week do you do strength training like weight lifting?\\n0:Never\\n1:Once or twice\\n2:Three or four\\n3:Five or more', '2')\n",
        "w3 = car.insertNode('How many times a week do you do strength training like weight lifting?\\n0:Never\\n1:Once or twice\\n2:Three or four\\n3:Five or more', '3')\n",
        "\n",
        "ex00 = w0.insertNode('How many times a week do you do light exercise?\\nExamples: walking, yoga, stretching\\n0:Never\\n1:Once or twice\\n2:Three or four\\n3:Five or more', '0')\n",
        "ex01 = w0.insertNode('How many times a week do you do light exercise?\\nExamples: walking, yoga, stretching\\n0:Never\\n1:Once or twice\\n2:Three or four\\n3:Five or more', '1')\n",
        "w0.insertNode(1.3, '2')\n",
        "w0.insertNode(1.5, '3')\n",
        "\n",
        "ex00.insertNode(1, '0')\n",
        "ex00.insertNode(1.05, '1')\n",
        "ex00.insertNode(1.1, '2')\n",
        "ex00.insertNode(1.15, '3')\n",
        "\n",
        "ex01.insertNode(1.1, '0')\n",
        "ex01.insertNode(1.15, '1')\n",
        "ex01.insertNode(1.2, '2')\n",
        "ex01.insertNode(1.25, '3')\n",
        "\n",
        "w1.insertNode(1.2, '0')\n",
        "w1.insertNode(1.3, '1')\n",
        "w1.insertNode(1.5, '2')\n",
        "w1.insertNode(1.7, '3')\n",
        "\n",
        "w2.insertNode(1.5, '0')\n",
        "w2.insertNode(1.6, '1')\n",
        "w2.insertNode(1.8, '2')\n",
        "w2.insertNode(2, '3')\n",
        "\n",
        "w3.insertNode(1.75, '0')\n",
        "w3.insertNode(1.85, '1')\n",
        "w3.insertNode(2, '2')\n",
        "w3.insertNode(2.2, '3')\n",
        "\n",
        "goal = Node('What is your goal?\\n0:Lose weight\\n1:Maintain weight\\n2:Gain muscle mass')\n",
        "\n",
        "time0 = goal.insertNode('Over what timespan?\\n0:Short term\\n1:Long term', '0')\n",
        "goal.insertNode(1, '1')\n",
        "time2 = goal.insertNode('Over what timespan?\\n0:Short term\\n1:Long term', '2')\n",
        "\n",
        "time0.insertNode(0.8, '0')\n",
        "time0.insertNode(0.9, '1')\n",
        "\n",
        "time2.insertNode(1.2, '0')\n",
        "time2.insertNode(1.1, '1')\n",
        "\n",
        "def split(calories):\n",
        "    protein = round((calories * 0.4)/4,2)\n",
        "    carbs = round((calories * 0.4)/4,2)\n",
        "    fat = round((calories * 0.2)/9,2)\n",
        "    print(f'\\nHere is your daily split:\\n')\n",
        "    print(f'Proteins: {protein} grams')\n",
        "    print(f'Carbs: {carbs} grams')\n",
        "    print(f'Fat: {fat} grams')\n",
        "\n",
        "def main():\n",
        "    BMR = bmr()\n",
        "    multiplier = car.traversal()\n",
        "    percentage = goal.traversal()\n",
        "    calories = BMR * multiplier * percentage\n",
        "    split(calories)\n",
        "\n",
        "main()\n"
      ]
    },
    {
      "cell_type": "code",
      "source": [],
      "metadata": {
        "id": "0brtX5RbWViK"
      },
      "execution_count": null,
      "outputs": []
    }
  ]
}